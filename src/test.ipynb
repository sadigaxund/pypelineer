{
 "cells": [
  {
   "cell_type": "code",
   "execution_count": null,
   "metadata": {},
   "outputs": [],
   "source": [
    "from abc import ABC, abstractmethod\n",
    "\n",
    "\n",
    "class AbstractMeta(type):\n",
    "    def __init__(cls, name, bases, dct):\n",
    "        super().__init__(name, bases, dct)\n",
    "        print(\"Extended by:\", cls.__name__)\n",
    "\n",
    "\n",
    "class AbstractClass(ABC, metaclass=AbstractMeta):\n",
    "    _subclasses = []\n",
    "\n",
    "    @classmethod\n",
    "    def _register_subclass(cls, subclass):\n",
    "        cls._subclasses.append(subclass)\n",
    "\n",
    "    @classmethod\n",
    "    def get_subclasses(cls):\n",
    "        return cls._subclasses\n",
    "\n",
    "\n",
    "class ConcreteClass1(AbstractClass):\n",
    "    def __init__(self):\n",
    "        super().__init__()\n",
    "\n",
    "\n",
    "class ConcreteClass2(AbstractClass):\n",
    "    def __init__(self):\n",
    "        super().__init__()\n",
    "\n",
    "\n",
    "# Usage example\n",
    "print(AbstractClass.get_subclasses())"
   ]
  },
  {
   "cell_type": "code",
   "execution_count": null,
   "metadata": {},
   "outputs": [],
   "source": [
    "from abc import ABC, ABCMeta, abstractmethod\n",
    "\n",
    "class AbstractClass(ABC):\n",
    "    def __init__(self, cls) -> None:\n",
    "        super().__init__()\n",
    "        print(cls.name)\n",
    "    \n",
    "class \n",
    "\n",
    "\n",
    "\n",
    "\n",
    "print(AbstractClass.get_subclasses())  # Output: ['ConcreteClass']"
   ]
  },
  {
   "cell_type": "markdown",
   "metadata": {},
   "source": [
    "# Innovative Pipeline Design"
   ]
  },
  {
   "cell_type": "code",
   "execution_count": 139,
   "metadata": {},
   "outputs": [],
   "source": [
    "from typing import *\n",
    "\n",
    "Accumulator = Union[Generator, Iterator, Collection]\n",
    "\n",
    "\n",
    "class AbstractNode(ABC):\n",
    "    def __init__(self) -> None:\n",
    "        super().__init__()\n",
    "\n",
    "    @abstractmethod\n",
    "    def __input__(self):\n",
    "        ...\n",
    "\n",
    "    @abstractmethod\n",
    "    def __output__(self) -> Accumulator:\n",
    "        ...\n",
    "\n",
    "    def join(self, node: Self):\n",
    "        ...\n",
    "\n",
    "    # def execute(self) -> Generator[Dict, None, None]:\n",
    "    #     ...\n",
    "\n",
    "\n",
    "class SourceNode(AbstractNode):\n",
    "    def __input__(self):\n",
    "        raise AttributeError(\"SourceNode does not take input\")\n",
    "\n",
    "    # NOTE: gotta implement __output__ here\n",
    "\n",
    "    @property\n",
    "    def output(self) -> Generator[Any, None, None]:\n",
    "        collection = self.__output__()\n",
    "        yield from collection\n",
    "\n",
    "\n",
    "class InterimNode(AbstractNode):\n",
    "    @abstractmethod\n",
    "    def __execute__(self, record: Any) -> Any:\n",
    "        ...\n",
    "\n",
    "    def __output__(self):\n",
    "        for record in self.__input__():\n",
    "            _record = self.__execute__(record)\n",
    "            yield _record\n",
    "\n",
    "    @property\n",
    "    def output(self):\n",
    "        return self.__output__()\n",
    "\n",
    "    @property\n",
    "    def input(self):\n",
    "        return self.__input__()\n",
    "\n",
    "    def __input__(self):\n",
    "        raise NotImplementedError(\"Input was not linked!\")\n",
    "\n",
    "    @property\n",
    "    def input(self):\n",
    "        return self.__input__()\n",
    "\n",
    "    @input.setter\n",
    "    def input(self, value):\n",
    "        if not isinstance(value, Accumulator):\n",
    "            raise ValueError(\n",
    "                \"Input has to be either of type Generator, Iterator or Collection!\"\n",
    "            )\n",
    "\n",
    "        def create_input_function():\n",
    "            yield from value\n",
    "\n",
    "        self.__input__ = create_input_function\n",
    "\n",
    "\n",
    "class SinkNode(AbstractNode):\n",
    "    def __init__(self) -> None:\n",
    "        super().__init__()\n",
    "\n",
    "    @classmethod\n",
    "    def __output__(self):\n",
    "        raise AttributeError(\"SinkNode does not produce output\")\n",
    "\n",
    "    # NOTE: gotta implement __input__ here\n",
    "\n",
    "    @property\n",
    "    def input(self) -> Generator[Any, None, None]:\n",
    "        collection = self.__output__()\n",
    "        yield from collection"
   ]
  },
  {
   "cell_type": "code",
   "execution_count": 140,
   "metadata": {},
   "outputs": [],
   "source": [
    "from typing import Any\n",
    "\n",
    "\n",
    "class NodeFactory:\n",
    "    def build_source_node(udf_extractor):\n",
    "        class Extract(SourceNode):\n",
    "            def __output__(self):\n",
    "                return udf_extractor()\n",
    "\n",
    "        node = Extract()\n",
    "        return node\n",
    "\n",
    "    def build_interim_node(udf_executor, input=None):\n",
    "        class Transform(InterimNode):\n",
    "            def __execute__(self, record: Any) -> Any:\n",
    "                return udf_executor(record)\n",
    "\n",
    "        node = Transform()\n",
    "        if input:\n",
    "            node.input = input\n",
    "        return node\n",
    "        ...\n",
    "\n",
    "    def build_sink_node(udf_loader):\n",
    "        ..."
   ]
  },
  {
   "cell_type": "code",
   "execution_count": 65,
   "metadata": {},
   "outputs": [],
   "source": [
    "def extractor():\n",
    "    return {1: 2, 2: 3, 3: 4}.values()\n",
    "\n",
    "\n",
    "source = NodeFactory.build_source_node(extractor)"
   ]
  },
  {
   "cell_type": "code",
   "execution_count": 141,
   "metadata": {},
   "outputs": [
    {
     "ename": "TypeError",
     "evalue": "InterimNode.__input__() missing 1 required positional argument: 'self'",
     "output_type": "error",
     "traceback": [
      "\u001b[0;31m---------------------------------------------------------------------------\u001b[0m",
      "\u001b[0;31mTypeError\u001b[0m                                 Traceback (most recent call last)",
      "Cell \u001b[0;32mIn[141], line 7\u001b[0m\n\u001b[1;32m      2\u001b[0m     \u001b[38;5;28;01mreturn\u001b[39;00m num \u001b[38;5;241m+\u001b[39m \u001b[38;5;241m1\u001b[39m\n\u001b[1;32m      5\u001b[0m transformer \u001b[38;5;241m=\u001b[39m NodeFactory\u001b[38;5;241m.\u001b[39mbuild_interim_node(adder, \u001b[38;5;28minput\u001b[39m\u001b[38;5;241m=\u001b[39m[\u001b[38;5;241m1\u001b[39m, \u001b[38;5;241m2\u001b[39m, \u001b[38;5;241m3\u001b[39m, \u001b[38;5;241m4\u001b[39m, \u001b[38;5;241m5\u001b[39m])\n\u001b[0;32m----> 7\u001b[0m \u001b[38;5;28;43;01mfor\u001b[39;49;00m\u001b[43m \u001b[49m\u001b[43ma\u001b[49m\u001b[43m \u001b[49m\u001b[38;5;129;43;01min\u001b[39;49;00m\u001b[43m \u001b[49m\u001b[43mtransformer\u001b[49m\u001b[38;5;241;43m.\u001b[39;49m\u001b[43moutput\u001b[49m\u001b[43m:\u001b[49m\n\u001b[1;32m      8\u001b[0m \u001b[43m    \u001b[49m\u001b[38;5;28;43mprint\u001b[39;49m\u001b[43m(\u001b[49m\u001b[43ma\u001b[49m\u001b[43m)\u001b[49m\n",
      "Cell \u001b[0;32mIn[139], line 45\u001b[0m, in \u001b[0;36mInterimNode.__output__\u001b[0;34m(self)\u001b[0m\n\u001b[1;32m     43\u001b[0m \u001b[38;5;129m@classmethod\u001b[39m\n\u001b[1;32m     44\u001b[0m \u001b[38;5;28;01mdef\u001b[39;00m \u001b[38;5;21m__output__\u001b[39m(\u001b[38;5;28mself\u001b[39m):\n\u001b[0;32m---> 45\u001b[0m     \u001b[38;5;28;01mfor\u001b[39;00m record \u001b[38;5;129;01min\u001b[39;00m \u001b[38;5;28;43mself\u001b[39;49m\u001b[38;5;241;43m.\u001b[39;49m\u001b[43m__input__\u001b[49m\u001b[43m(\u001b[49m\u001b[43m)\u001b[49m:\n\u001b[1;32m     46\u001b[0m         _record \u001b[38;5;241m=\u001b[39m \u001b[38;5;28mself\u001b[39m\u001b[38;5;241m.\u001b[39m__execute__(record)\n\u001b[1;32m     47\u001b[0m         \u001b[38;5;28;01myield\u001b[39;00m _record\n",
      "\u001b[0;31mTypeError\u001b[0m: InterimNode.__input__() missing 1 required positional argument: 'self'"
     ]
    }
   ],
   "source": [
    "def adder(num):\n",
    "    return num + 1\n",
    "\n",
    "\n",
    "transformer = NodeFactory.build_interim_node(adder, input=[1, 2, 3, 4, 5])\n",
    "\n",
    "for a in transformer.output:\n",
    "    print(a)"
   ]
  },
  {
   "cell_type": "code",
   "execution_count": 125,
   "metadata": {},
   "outputs": [
    {
     "name": "stdout",
     "output_type": "stream",
     "text": [
      "Settter is called!\n"
     ]
    }
   ],
   "source": [
    "a = NodeFactory.build_interim_node(adder, input=[1, 2, 3, 4, 5]).output"
   ]
  },
  {
   "cell_type": "code",
   "execution_count": 126,
   "metadata": {},
   "outputs": [
    {
     "ename": "NotImplementedError",
     "evalue": "Input was not linked!",
     "output_type": "error",
     "traceback": [
      "\u001b[0;31m---------------------------------------------------------------------------\u001b[0m",
      "\u001b[0;31mNotImplementedError\u001b[0m                       Traceback (most recent call last)",
      "Cell \u001b[0;32mIn[126], line 1\u001b[0m\n\u001b[0;32m----> 1\u001b[0m \u001b[38;5;28;43mnext\u001b[39;49m\u001b[43m(\u001b[49m\u001b[43ma\u001b[49m\u001b[43m)\u001b[49m\n",
      "Cell \u001b[0;32mIn[123], line 49\u001b[0m, in \u001b[0;36mInterimNode.__output__\u001b[0;34m(self)\u001b[0m\n\u001b[1;32m     47\u001b[0m \u001b[38;5;129m@classmethod\u001b[39m\n\u001b[1;32m     48\u001b[0m \u001b[38;5;28;01mdef\u001b[39;00m \u001b[38;5;21m__output__\u001b[39m(\u001b[38;5;28mself\u001b[39m):\n\u001b[0;32m---> 49\u001b[0m     \u001b[38;5;28;01mfor\u001b[39;00m record \u001b[38;5;129;01min\u001b[39;00m \u001b[38;5;28;43mself\u001b[39;49m\u001b[38;5;241;43m.\u001b[39;49m\u001b[43m__input__\u001b[49m\u001b[43m(\u001b[49m\u001b[43m)\u001b[49m:\n\u001b[1;32m     50\u001b[0m         _record \u001b[38;5;241m=\u001b[39m \u001b[38;5;28mself\u001b[39m\u001b[38;5;241m.\u001b[39m__execute__(record)\n\u001b[1;32m     51\u001b[0m         \u001b[38;5;28;01myield\u001b[39;00m _record\n",
      "Cell \u001b[0;32mIn[123], line 45\u001b[0m, in \u001b[0;36mInterimNode.__input__\u001b[0;34m(self)\u001b[0m\n\u001b[1;32m     43\u001b[0m \u001b[38;5;129m@classmethod\u001b[39m\n\u001b[1;32m     44\u001b[0m \u001b[38;5;28;01mdef\u001b[39;00m \u001b[38;5;21m__input__\u001b[39m(\u001b[38;5;28mself\u001b[39m):\n\u001b[0;32m---> 45\u001b[0m     \u001b[38;5;28;01mraise\u001b[39;00m \u001b[38;5;167;01mNotImplementedError\u001b[39;00m(\u001b[38;5;124m\"\u001b[39m\u001b[38;5;124mInput was not linked!\u001b[39m\u001b[38;5;124m\"\u001b[39m)\n",
      "\u001b[0;31mNotImplementedError\u001b[0m: Input was not linked!"
     ]
    }
   ],
   "source": [
    "next(a)"
   ]
  },
  {
   "cell_type": "code",
   "execution_count": null,
   "metadata": {},
   "outputs": [],
   "source": [
    "SourceNode().join(MidNode().join(MidNode().join(SinkNode())))"
   ]
  },
  {
   "cell_type": "code",
   "execution_count": 35,
   "metadata": {},
   "outputs": [
    {
     "name": "stdout",
     "output_type": "stream",
     "text": [
      "fuck\n"
     ]
    }
   ],
   "source": [
    "class Test(ABC):\n",
    "    @abstractmethod\n",
    "    def test(self):\n",
    "        print(\"Hey\")\n",
    "\n",
    "\n",
    "class Real(Test):\n",
    "    def __init__(self, func) -> None:\n",
    "        self.implementation = func\n",
    "        super().__init__()\n",
    "\n",
    "    def test(self):\n",
    "        self.implementation()\n",
    "\n",
    "\n",
    "def fuck():\n",
    "    print(\"fuck\")\n",
    "\n",
    "\n",
    "real = Real(fuck)\n",
    "\n",
    "real.test()"
   ]
  },
  {
   "cell_type": "code",
   "execution_count": 136,
   "metadata": {},
   "outputs": [],
   "source": [
    "class Test:\n",
    "    def __hey__(self):\n",
    "        raise NotImplemented(\"BAD\")\n",
    "\n",
    "    @property\n",
    "    def hey(self):\n",
    "        return self.__hey__()\n",
    "\n",
    "    @hey.setter\n",
    "    def hey(self, value):\n",
    "        def new_hey():\n",
    "            print(value)\n",
    "\n",
    "        self.__hey__ = new_hey"
   ]
  },
  {
   "cell_type": "code",
   "execution_count": 138,
   "metadata": {},
   "outputs": [
    {
     "name": "stdout",
     "output_type": "stream",
     "text": [
      "GOOD\n"
     ]
    }
   ],
   "source": [
    "test = Test()\n",
    "test.hey = \"GOOD\"\n",
    "test.hey"
   ]
  }
 ],
 "metadata": {
  "kernelspec": {
   "display_name": "Python 3",
   "language": "python",
   "name": "python3"
  },
  "language_info": {
   "codemirror_mode": {
    "name": "ipython",
    "version": 3
   },
   "file_extension": ".py",
   "mimetype": "text/x-python",
   "name": "python",
   "nbconvert_exporter": "python",
   "pygments_lexer": "ipython3",
   "version": "3.11.7"
  }
 },
 "nbformat": 4,
 "nbformat_minor": 2
}
