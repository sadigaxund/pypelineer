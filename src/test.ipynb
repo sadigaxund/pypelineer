{
 "cells": [
  {
   "cell_type": "code",
   "execution_count": null,
   "metadata": {},
   "outputs": [],
   "source": [
    "from abc import ABC, abstractmethod\n",
    "\n",
    "\n",
    "class AbstractMeta(type):\n",
    "    def __init__(cls, name, bases, dct):\n",
    "        super().__init__(name, bases, dct)\n",
    "        print(\"Extended by:\", cls.__name__)\n",
    "\n",
    "\n",
    "class AbstractClass(ABC, metaclass=AbstractMeta):\n",
    "    _subclasses = []\n",
    "\n",
    "    @classmethod\n",
    "    def _register_subclass(cls, subclass):\n",
    "        cls._subclasses.append(subclass)\n",
    "\n",
    "    @classmethod\n",
    "    def get_subclasses(cls):\n",
    "        return cls._subclasses\n",
    "\n",
    "\n",
    "class ConcreteClass1(AbstractClass):\n",
    "    def __init__(self):\n",
    "        super().__init__()\n",
    "\n",
    "\n",
    "class ConcreteClass2(AbstractClass):\n",
    "    def __init__(self):\n",
    "        super().__init__()\n",
    "\n",
    "\n",
    "# Usage example\n",
    "print(AbstractClass.get_subclasses())"
   ]
  },
  {
   "cell_type": "code",
   "execution_count": null,
   "metadata": {},
   "outputs": [],
   "source": [
    "from abc import ABC, ABCMeta, abstractmethod\n",
    "\n",
    "class AbstractClass(ABC):\n",
    "    def __init__(self, cls) -> None:\n",
    "        super().__init__()\n",
    "        print(cls.name)\n",
    "    \n",
    "class \n",
    "\n",
    "\n",
    "\n",
    "\n",
    "print(AbstractClass.get_subclasses())  # Output: ['ConcreteClass']"
   ]
  },
  {
   "cell_type": "markdown",
   "metadata": {},
   "source": [
    "# Innovative Pipeline Design"
   ]
  },
  {
   "cell_type": "code",
   "execution_count": 34,
   "metadata": {},
   "outputs": [],
   "source": [
    "from typing import *\n",
    "from abc import ABC, ABCMeta, abstractmethod\n",
    "\n",
    "Accumulator = Union[Generator, Iterator, Collection]\n",
    "\n",
    "\n",
    "class SourceNode:\n",
    "    def __input__(self):\n",
    "        raise AttributeError(\"SourceNode does not take input\")\n",
    "\n",
    "    def __input__(self):\n",
    "        raise NotImplementedError(\"Output was not linked!\")\n",
    "\n",
    "    # NOTE: gotta implement __output__ here\n",
    "    @property\n",
    "    def output(self) -> Generator[Any, None, None]:\n",
    "        collection = self.__output__()\n",
    "        yield from collection\n",
    "\n",
    "    @output.setter\n",
    "    def output(self, value):\n",
    "        def create_output_function():\n",
    "            yield from value()\n",
    "\n",
    "        self.__output__ = create_output_function\n",
    "\n",
    "\n",
    "class InterimNode:\n",
    "\n",
    "    # EXECUTOR\n",
    "\n",
    "    def __executor__(self, value):\n",
    "        # no change\n",
    "        return value\n",
    "\n",
    "    @property\n",
    "    def executor(self):\n",
    "        # TODO: Ensure self\n",
    "        return self.__executor__\n",
    "\n",
    "    @executor.setter\n",
    "    def executor(self, value):\n",
    "        self.__executor__ = value\n",
    "\n",
    "    # OUTPUT\n",
    "\n",
    "    def __output__(self):\n",
    "        for record in self.__input__():\n",
    "            # TODO: Surround with try catch,\n",
    "            # and maybe recieve callback as parameter to deal with bad record\n",
    "            yield self.executor(record)\n",
    "\n",
    "    @property\n",
    "    def output(self) -> Generator[Any, None, None]:\n",
    "        return self.__output__()\n",
    "\n",
    "    # INPUT\n",
    "    def __input__(self):\n",
    "        raise NotImplementedError(\"Input was not linked!\")\n",
    "\n",
    "    @property\n",
    "    def input(self) -> Generator[Any, None, None]:\n",
    "        return self.__input__()\n",
    "\n",
    "    @input.setter\n",
    "    def input(self, value):\n",
    "        if not isinstance(value, Accumulator):\n",
    "            raise ValueError(\n",
    "                f\"Input has to be either of type Generator, Iterator or Collection. Recieved: {type(value)}\"\n",
    "            )\n",
    "\n",
    "        def create_input_function():\n",
    "            yield from value\n",
    "\n",
    "        self.__input__ = create_input_function\n",
    "\n",
    "\n",
    "class SinkNode:\n",
    "\n",
    "    def __output__(self):\n",
    "        raise AttributeError(\"SinkNode does not produce output\")\n",
    "\n",
    "    def __input__(self):\n",
    "        raise NotImplementedError(\"Input was not linked!\")\n",
    "\n",
    "    @property\n",
    "    def input(self):\n",
    "        raise AttributeError(\"SinkNode does not produce output\")\n",
    "\n",
    "    @property.setter\n",
    "    def input(self, value: Accumulator):\n",
    "\n",
    "        ..."
   ]
  },
  {
   "cell_type": "markdown",
   "metadata": {},
   "source": [
    "# Create Transformer"
   ]
  },
  {
   "cell_type": "code",
   "execution_count": 44,
   "metadata": {},
   "outputs": [
    {
     "name": "stdout",
     "output_type": "stream",
     "text": [
      "30\n",
      "40\n",
      "42\n"
     ]
    }
   ],
   "source": [
    "from random import randint\n",
    "\n",
    "tr = InterimNode()\n",
    "\n",
    "\n",
    "def source():\n",
    "    yield from [1, 2, 3]\n",
    "\n",
    "\n",
    "def plus10(value):\n",
    "    return value + randint(10, 40)\n",
    "\n",
    "\n",
    "tr.executor = plus10\n",
    "tr.input = source()\n",
    "\n",
    "for i in tr.output:\n",
    "    print(i)"
   ]
  },
  {
   "cell_type": "code",
   "execution_count": 48,
   "metadata": {},
   "outputs": [],
   "source": [
    "from typing import Any\n",
    "\n",
    "\n",
    "class NodeFactory:\n",
    "    def build_source_node(udf_extractor) -> SourceNode:\n",
    "        node = SourceNode()\n",
    "        node.output = udf_extractor\n",
    "        return node\n",
    "\n",
    "    def build_interim_node(udf_executor, input=None) -> InterimNode:\n",
    "        node = InterimNode()\n",
    "        node.executor = udf_executor\n",
    "        if input:\n",
    "            node.input = input\n",
    "        return node\n",
    "\n",
    "    def build_sink_node(udf_loader) -> SinkNode: ..."
   ]
  },
  {
   "cell_type": "code",
   "execution_count": 51,
   "metadata": {},
   "outputs": [],
   "source": [
    "def extractor():\n",
    "    yield from [1, 2, 3, 4, 5, 6, 7]\n",
    "\n",
    "\n",
    "def transformer(value):\n",
    "    return value + 9\n",
    "\n",
    "\n",
    "def loader(values):\n",
    "    for value in values:\n",
    "        print(value)\n",
    "\n",
    "\n",
    "source = NodeFactory.build_source_node(extractor)\n",
    "transf = NodeFactory.build_interim_node(transformer)\n",
    "transf.input = source.output"
   ]
  },
  {
   "cell_type": "code",
   "execution_count": 52,
   "metadata": {},
   "outputs": [
    {
     "name": "stdout",
     "output_type": "stream",
     "text": [
      "10\n",
      "11\n",
      "12\n",
      "13\n",
      "14\n",
      "15\n",
      "16\n"
     ]
    }
   ],
   "source": [
    "for i in transf.output:\n",
    "    print(i)"
   ]
  },
  {
   "cell_type": "code",
   "execution_count": 146,
   "metadata": {},
   "outputs": [
    {
     "name": "stdout",
     "output_type": "stream",
     "text": [
      "{'Hey There': 'Hello', 'New Field': 'Fuck Yeah'}\n"
     ]
    }
   ],
   "source": [
    "def adder(num):\n",
    "    num[\"New Field\"] = \"Fuck Yeah\"\n",
    "    return num\n",
    "\n",
    "\n",
    "transformer = NodeFactory.build_interim_node(adder, input=[{\"Hey There\": \"Hello\"}])\n",
    "\n",
    "for a in transformer.output:\n",
    "    print(a)"
   ]
  },
  {
   "cell_type": "code",
   "execution_count": 125,
   "metadata": {},
   "outputs": [
    {
     "name": "stdout",
     "output_type": "stream",
     "text": [
      "Settter is called!\n"
     ]
    }
   ],
   "source": [
    "a = NodeFactory.build_interim_node(adder, input=[1, 2, 3, 4, 5]).output"
   ]
  },
  {
   "cell_type": "code",
   "execution_count": 126,
   "metadata": {},
   "outputs": [
    {
     "ename": "NotImplementedError",
     "evalue": "Input was not linked!",
     "output_type": "error",
     "traceback": [
      "\u001b[0;31m---------------------------------------------------------------------------\u001b[0m",
      "\u001b[0;31mNotImplementedError\u001b[0m                       Traceback (most recent call last)",
      "Cell \u001b[0;32mIn[126], line 1\u001b[0m\n\u001b[0;32m----> 1\u001b[0m \u001b[38;5;28;43mnext\u001b[39;49m\u001b[43m(\u001b[49m\u001b[43ma\u001b[49m\u001b[43m)\u001b[49m\n",
      "Cell \u001b[0;32mIn[123], line 49\u001b[0m, in \u001b[0;36mInterimNode.__output__\u001b[0;34m(self)\u001b[0m\n\u001b[1;32m     47\u001b[0m \u001b[38;5;129m@classmethod\u001b[39m\n\u001b[1;32m     48\u001b[0m \u001b[38;5;28;01mdef\u001b[39;00m \u001b[38;5;21m__output__\u001b[39m(\u001b[38;5;28mself\u001b[39m):\n\u001b[0;32m---> 49\u001b[0m     \u001b[38;5;28;01mfor\u001b[39;00m record \u001b[38;5;129;01min\u001b[39;00m \u001b[38;5;28;43mself\u001b[39;49m\u001b[38;5;241;43m.\u001b[39;49m\u001b[43m__input__\u001b[49m\u001b[43m(\u001b[49m\u001b[43m)\u001b[49m:\n\u001b[1;32m     50\u001b[0m         _record \u001b[38;5;241m=\u001b[39m \u001b[38;5;28mself\u001b[39m\u001b[38;5;241m.\u001b[39m__execute__(record)\n\u001b[1;32m     51\u001b[0m         \u001b[38;5;28;01myield\u001b[39;00m _record\n",
      "Cell \u001b[0;32mIn[123], line 45\u001b[0m, in \u001b[0;36mInterimNode.__input__\u001b[0;34m(self)\u001b[0m\n\u001b[1;32m     43\u001b[0m \u001b[38;5;129m@classmethod\u001b[39m\n\u001b[1;32m     44\u001b[0m \u001b[38;5;28;01mdef\u001b[39;00m \u001b[38;5;21m__input__\u001b[39m(\u001b[38;5;28mself\u001b[39m):\n\u001b[0;32m---> 45\u001b[0m     \u001b[38;5;28;01mraise\u001b[39;00m \u001b[38;5;167;01mNotImplementedError\u001b[39;00m(\u001b[38;5;124m\"\u001b[39m\u001b[38;5;124mInput was not linked!\u001b[39m\u001b[38;5;124m\"\u001b[39m)\n",
      "\u001b[0;31mNotImplementedError\u001b[0m: Input was not linked!"
     ]
    }
   ],
   "source": [
    "next(a)"
   ]
  },
  {
   "cell_type": "code",
   "execution_count": null,
   "metadata": {},
   "outputs": [],
   "source": [
    "SourceNode().join(MidNode().join(MidNode().join(SinkNode())))"
   ]
  },
  {
   "cell_type": "code",
   "execution_count": 35,
   "metadata": {},
   "outputs": [
    {
     "name": "stdout",
     "output_type": "stream",
     "text": [
      "fuck\n"
     ]
    }
   ],
   "source": [
    "class Test(ABC):\n",
    "    @abstractmethod\n",
    "    def test(self):\n",
    "        print(\"Hey\")\n",
    "\n",
    "\n",
    "class Real(Test):\n",
    "    def __init__(self, func) -> None:\n",
    "        self.implementation = func\n",
    "        super().__init__()\n",
    "\n",
    "    def test(self):\n",
    "        self.implementation()\n",
    "\n",
    "\n",
    "def fuck():\n",
    "    print(\"fuck\")\n",
    "\n",
    "\n",
    "real = Real(fuck)\n",
    "\n",
    "real.test()"
   ]
  },
  {
   "cell_type": "code",
   "execution_count": 136,
   "metadata": {},
   "outputs": [],
   "source": [
    "class Test:\n",
    "    def __hey__(self):\n",
    "        raise NotImplemented(\"BAD\")\n",
    "\n",
    "    @property\n",
    "    def hey(self):\n",
    "        return self.__hey__()\n",
    "\n",
    "    @hey.setter\n",
    "    def hey(self, value):\n",
    "        def new_hey():\n",
    "            print(value)\n",
    "\n",
    "        self.__hey__ = new_hey"
   ]
  },
  {
   "cell_type": "code",
   "execution_count": 138,
   "metadata": {},
   "outputs": [
    {
     "name": "stdout",
     "output_type": "stream",
     "text": [
      "GOOD\n"
     ]
    }
   ],
   "source": [
    "test = Test()\n",
    "test.hey = \"GOOD\"\n",
    "test.hey"
   ]
  },
  {
   "cell_type": "code",
   "execution_count": null,
   "metadata": {},
   "outputs": [],
   "source": [
    "from typing import Iterator, Generator, Dict, List\n",
    "from queue import Queue\n",
    "\n",
    "\n",
    "def Extractor():\n",
    "\n",
    "    requestQueue = Queue()\n",
    "\n",
    "    def _init_(self):\n",
    "        # init APIs, client, connectors, whatever...\n",
    "        #\n",
    "\n",
    "        ...\n",
    "\n",
    "    def extract(self, collection: Iterator) -> Generator[Dict, None, None]: ...\n",
    "\n",
    "\n",
    "def Transformer():\n",
    "    def _init_(self): ...\n",
    "\n",
    "    def transform(self, record: Dict) -> Dict: ...\n",
    "\n",
    "\n",
    "def Loader():\n",
    "    def _init_(self): ...\n",
    "\n",
    "    def load(self, record: Dict) -> bool: ...\n",
    "\n",
    "\n",
    "def ETL():\n",
    "    def _init_(\n",
    "        self,\n",
    "        extractors: List[Extractor],\n",
    "        transformers: List[Transformer],\n",
    "        loaders: List[Transformer],\n",
    "    ):\n",
    "        self.extractors = extractors\n",
    "        self.transformers = transformers\n",
    "        self.loaders = loaders\n",
    "\n",
    "    def extract(self) -> Generator[Dict, None, None]:\n",
    "        flag = True\n",
    "        for extractor in self.extractors:\n",
    "            while True:\n",
    "                try:\n",
    "                    yield next(extractor)\n",
    "                except Exception as e:\n",
    "                    # if the end of generator is reached (when StopIteration raised)\n",
    "                    # then continue gracefully, otherwise flag it as bad\n",
    "                    # TODO: extract more information about the state from here: such as which extractor failed and the error\n",
    "                    flag &= isinstance(e, StopIteration)\n",
    "                    break\n",
    "\n",
    "    def run(self) -> bool: ..."
   ]
  },
  {
   "cell_type": "code",
   "execution_count": 6,
   "metadata": {},
   "outputs": [],
   "source": [
    "def extract():\n",
    "    print(\"Started.\")\n",
    "    flag = True\n",
    "    for extractor in self.extractors:\n",
    "        while True:\n",
    "            try:\n",
    "                yield next(extractor)\n",
    "            except Exception as e:\n",
    "                # if the end of generator is reached (when StopIteration raised)\n",
    "                # then continue gracefully, otherwise flag it as bad\n",
    "                # TODO: extract more information about the state from here: such as which extractor failed and the error\n",
    "                flag &= isinstance(e, StopIteration)\n",
    "                break"
   ]
  },
  {
   "cell_type": "code",
   "execution_count": 8,
   "metadata": {},
   "outputs": [
    {
     "name": "stdout",
     "output_type": "stream",
     "text": [
      "Client Initialized!\n",
      "Client Released!\n"
     ]
    }
   ],
   "source": [
    "from functools import partial\n",
    "\n",
    "\n",
    "class Loader:\n",
    "    def __init__(self, *args, **kwargs) -> None:\n",
    "        pass\n",
    "\n",
    "    def __enter__(self):\n",
    "        self.active = True\n",
    "        print(\"Client Initialized!\")\n",
    "        return self\n",
    "\n",
    "    def __exit__(self, exc_type, exc_value, traceback):\n",
    "        self.active = False\n",
    "        print(\"Client Released!\")\n",
    "        # Perform any cleanup or resource releasing here\n",
    "\n",
    "    def load(self, record):\n",
    "        if not self.active:\n",
    "            raise ResourceWarning(\"Client has already been closed!\")\n",
    "        print(f\"Record=[{record}] has been loaded.\")\n",
    "\n",
    "\n",
    "def template_load_one(client, record):\n",
    "    client.load(record)\n",
    "\n",
    "\n",
    "with Loader(blah=1) as loader:\n",
    "    load_one = partial(template_load_one, loader)\n",
    "\n",
    "\n",
    "def load_all_v1(records):\n",
    "    for record in records:\n",
    "        load_one(record)\n",
    "\n",
    "\n",
    "def load_all_v2(records):\n",
    "    with Loader(blah=1) as loader:\n",
    "        for record in records:\n",
    "            loader.load(record)"
   ]
  },
  {
   "cell_type": "code",
   "execution_count": 12,
   "metadata": {},
   "outputs": [
    {
     "name": "stdout",
     "output_type": "stream",
     "text": [
      "Client Initialized!\n",
      "Client Released!\n"
     ]
    }
   ],
   "source": [
    "loader = Loader(\"\")\n",
    "\n",
    "with loader as c:\n",
    "    ..."
   ]
  },
  {
   "cell_type": "code",
   "execution_count": 10,
   "metadata": {},
   "outputs": [
    {
     "name": "stdout",
     "output_type": "stream",
     "text": [
      "Client Initialized!\n",
      "Record=[1] has been loaded.\n",
      "Record=[2] has been loaded.\n",
      "Record=[3] has been loaded.\n",
      "Record=[4] has been loaded.\n",
      "Record=[5] has been loaded.\n",
      "Client Released!\n"
     ]
    }
   ],
   "source": [
    "records = [1, 2, 3, 4, 5]\n",
    "\n",
    "load_all_v2(records)"
   ]
  },
  {
   "cell_type": "code",
   "execution_count": 7,
   "metadata": {},
   "outputs": [
    {
     "ename": "TypeError",
     "evalue": "extract() missing 1 required positional argument: 'self'",
     "output_type": "error",
     "traceback": [
      "\u001b[0;31m---------------------------------------------------------------------------\u001b[0m",
      "\u001b[0;31mTypeError\u001b[0m                                 Traceback (most recent call last)",
      "Cell \u001b[0;32mIn[7], line 1\u001b[0m\n\u001b[0;32m----> 1\u001b[0m abc \u001b[38;5;241m=\u001b[39m \u001b[43mextract\u001b[49m\u001b[43m(\u001b[49m\u001b[43m)\u001b[49m\n",
      "\u001b[0;31mTypeError\u001b[0m: extract() missing 1 required positional argument: 'self'"
     ]
    }
   ],
   "source": []
  },
  {
   "cell_type": "code",
   "execution_count": 16,
   "metadata": {},
   "outputs": [],
   "source": [
    "from typing import *\n",
    "\n",
    "\n",
    "def func(abc: int, bcd: str) -> List:\n",
    "    return [abc, bcd]"
   ]
  },
  {
   "cell_type": "code",
   "execution_count": 17,
   "metadata": {},
   "outputs": [],
   "source": [
    "new_type = Callable[[int, str], List]"
   ]
  },
  {
   "cell_type": "code",
   "execution_count": 20,
   "metadata": {},
   "outputs": [
    {
     "ename": "TypeError",
     "evalue": "Subscripted generics cannot be used with class and instance checks",
     "output_type": "error",
     "traceback": [
      "\u001b[0;31m---------------------------------------------------------------------------\u001b[0m",
      "\u001b[0;31mTypeError\u001b[0m                                 Traceback (most recent call last)",
      "Cell \u001b[0;32mIn[20], line 1\u001b[0m\n\u001b[0;32m----> 1\u001b[0m \u001b[38;5;28;43misinstance\u001b[39;49m\u001b[43m(\u001b[49m\u001b[43mfunc\u001b[49m\u001b[43m,\u001b[49m\u001b[43m \u001b[49m\u001b[43mnew_type\u001b[49m\u001b[43m)\u001b[49m\n",
      "File \u001b[0;32m/usr/lib/python3.11/typing.py:1312\u001b[0m, in \u001b[0;36m_BaseGenericAlias.__instancecheck__\u001b[0;34m(self, obj)\u001b[0m\n\u001b[1;32m   1311\u001b[0m \u001b[38;5;28;01mdef\u001b[39;00m \u001b[38;5;21m__instancecheck__\u001b[39m(\u001b[38;5;28mself\u001b[39m, obj):\n\u001b[0;32m-> 1312\u001b[0m     \u001b[38;5;28;01mreturn\u001b[39;00m \u001b[38;5;28;43mself\u001b[39;49m\u001b[38;5;241;43m.\u001b[39;49m\u001b[38;5;21;43m__subclasscheck__\u001b[39;49m\u001b[43m(\u001b[49m\u001b[38;5;28;43mtype\u001b[39;49m\u001b[43m(\u001b[49m\u001b[43mobj\u001b[49m\u001b[43m)\u001b[49m\u001b[43m)\u001b[49m\n",
      "File \u001b[0;32m/usr/lib/python3.11/typing.py:1315\u001b[0m, in \u001b[0;36m_BaseGenericAlias.__subclasscheck__\u001b[0;34m(self, cls)\u001b[0m\n\u001b[1;32m   1314\u001b[0m \u001b[38;5;28;01mdef\u001b[39;00m \u001b[38;5;21m__subclasscheck__\u001b[39m(\u001b[38;5;28mself\u001b[39m, \u001b[38;5;28mcls\u001b[39m):\n\u001b[0;32m-> 1315\u001b[0m     \u001b[38;5;28;01mraise\u001b[39;00m \u001b[38;5;167;01mTypeError\u001b[39;00m(\u001b[38;5;124m\"\u001b[39m\u001b[38;5;124mSubscripted generics cannot be used with\u001b[39m\u001b[38;5;124m\"\u001b[39m\n\u001b[1;32m   1316\u001b[0m                     \u001b[38;5;124m\"\u001b[39m\u001b[38;5;124m class and instance checks\u001b[39m\u001b[38;5;124m\"\u001b[39m)\n",
      "\u001b[0;31mTypeError\u001b[0m: Subscripted generics cannot be used with class and instance checks"
     ]
    }
   ],
   "source": [
    "isinstance(func, new_type)"
   ]
  },
  {
   "cell_type": "code",
   "execution_count": 44,
   "metadata": {},
   "outputs": [],
   "source": [
    "value = {\"Message\": \"Hello World!\"}\n",
    "\n",
    "sentinel = StopIteration()\n",
    "\n",
    "\n",
    "def load_one(value):\n",
    "    print(\"Loaded To Kafka:\", value)\n",
    "\n",
    "\n",
    "def load_bulk():\n",
    "    try:\n",
    "        print(\"Started Loading...\")\n",
    "        while True:\n",
    "            value = yield  # get value from as you go\n",
    "            load_one(value)\n",
    "    finally:\n",
    "        # Any cleanup code can be placed here\n",
    "        print(\"Finished Loading...\")"
   ]
  },
  {
   "cell_type": "code",
   "execution_count": 46,
   "metadata": {},
   "outputs": [
    {
     "name": "stdout",
     "output_type": "stream",
     "text": [
      "Started Loading...\n",
      "Loaded To Kafka: 123\n",
      "Loaded To Kafka: 234\n",
      "Loaded To Kafka: 345\n",
      "Loaded To Kafka: 456\n",
      "Loaded To Kafka: 567\n",
      "Loaded To Kafka: Sentinel\n",
      "Finished Loading...\n"
     ]
    }
   ],
   "source": [
    "# input: Generator\n",
    "\n",
    "gen = load_bulk()\n",
    "\n",
    "gen.send(None)\n",
    "\n",
    "gen.send(123)\n",
    "gen.send(234)\n",
    "gen.send(345)\n",
    "gen.send(456)\n",
    "gen.send(567)\n",
    "gen.send(StopIteration(\"Sentinel\"))\n",
    "\n",
    "gen.close()"
   ]
  },
  {
   "cell_type": "code",
   "execution_count": null,
   "metadata": {},
   "outputs": [],
   "source": [
    "def load():\n",
    "    import time\n",
    "\n",
    "    try:\n",
    "        while True:\n",
    "            value = yield\n",
    "\n",
    "            counter += 1\n",
    "\n",
    "            if counter % batch_size == 0:\n",
    "                time.sleep(backoff)\n",
    "    finally:\n",
    "        # Stop Generator Gracefully. Maybe Release some resources\n",
    "        print(\"Closing Generator...\")\n",
    "        return total_counter\n",
    "\n",
    "\n",
    "# How to use\n",
    "ETL = load()\n",
    "next(ETL)\n",
    "\n",
    "for i in range(20):  # Load 20 values for demonstration\n",
    "    print(\"Loading value:\", i)\n",
    "    ETL.send(i)  # Sending the value to the generator\n",
    "    response = next(ETL)  # Getting the response from the generator\n",
    "    if response:\n",
    "        print(\"Received signal to pause\")\n",
    "        # You can handle the pause signal here\n",
    "    else:\n",
    "        print(\"No pause signal\")\n",
    "\n",
    "\n",
    "GET = True\n",
    "\n",
    "if GET:\n",
    "    # Either get returned value:\n",
    "    try:\n",
    "        ETL.send(StopIteration())\n",
    "    except StopIteration as retval:\n",
    "        statistics = retval.value\n",
    "    print(\"Returned Value:\", statistics)\n",
    "else:\n",
    "    # Or ignore and exit\n",
    "    ETL.close()"
   ]
  },
  {
   "cell_type": "code",
   "execution_count": null,
   "metadata": {},
   "outputs": [],
   "source": [
    "import itertools\n",
    "\n",
    "generator = None\n",
    "\n",
    "\n",
    "def peek():\n",
    "    global generator\n",
    "    \"\"\"Peek at the next item in the generator without consuming it.\"\"\"\n",
    "    try:\n",
    "        first_item = next(generator)\n",
    "\n",
    "        def regenerate():\n",
    "            yield first_item\n",
    "            yield from generator\n",
    "\n",
    "        generator = regenerate()\n",
    "        return True\n",
    "    except StopIteration:\n",
    "        return False\n",
    "\n",
    "\n",
    "# Example usage:\n",
    "\n",
    "\n",
    "def my_generator():\n",
    "    yield 1\n",
    "    yield 2\n",
    "    yield 3\n",
    "\n",
    "\n",
    "generator = my_generator()"
   ]
  },
  {
   "cell_type": "code",
   "execution_count": 64,
   "metadata": {},
   "outputs": [
    {
     "ename": "TypeError",
     "evalue": "peek() takes 0 positional arguments but 1 was given",
     "output_type": "error",
     "traceback": [
      "\u001b[0;31m---------------------------------------------------------------------------\u001b[0m",
      "\u001b[0;31mTypeError\u001b[0m                                 Traceback (most recent call last)",
      "Cell \u001b[0;32mIn[64], line 1\u001b[0m\n\u001b[0;32m----> 1\u001b[0m \u001b[38;5;28mprint\u001b[39m(\u001b[43mpeek\u001b[49m\u001b[43m(\u001b[49m\u001b[43mgen\u001b[49m\u001b[43m)\u001b[49m)\n",
      "\u001b[0;31mTypeError\u001b[0m: peek() takes 0 positional arguments but 1 was given"
     ]
    }
   ],
   "source": [
    "print(peek())"
   ]
  }
 ],
 "metadata": {
  "kernelspec": {
   "display_name": "Python 3",
   "language": "python",
   "name": "python3"
  },
  "language_info": {
   "codemirror_mode": {
    "name": "ipython",
    "version": 3
   },
   "file_extension": ".py",
   "mimetype": "text/x-python",
   "name": "python",
   "nbconvert_exporter": "python",
   "pygments_lexer": "ipython3",
   "version": "3.11.7"
  }
 },
 "nbformat": 4,
 "nbformat_minor": 2
}
